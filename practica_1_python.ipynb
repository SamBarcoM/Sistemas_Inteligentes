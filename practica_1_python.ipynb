{
  "nbformat": 4,
  "nbformat_minor": 0,
  "metadata": {
    "colab": {
      "name": "practica_1_python.ipynb",
      "provenance": [],
      "collapsed_sections": [],
      "authorship_tag": "ABX9TyOgjHM6kgiYwEXMEFTO/X9Z",
      "include_colab_link": true
    },
    "kernelspec": {
      "name": "python3",
      "display_name": "Python 3"
    }
  },
  "cells": [
    {
      "cell_type": "markdown",
      "metadata": {
        "id": "view-in-github",
        "colab_type": "text"
      },
      "source": [
        "<a href=\"https://colab.research.google.com/github/SamBarcoM/Sistemas_Inteligentes/blob/master/practica_1_python.ipynb\" target=\"_parent\"><img src=\"https://colab.research.google.com/assets/colab-badge.svg\" alt=\"Open In Colab\"/></a>"
      ]
    },
    {
      "cell_type": "markdown",
      "metadata": {
        "id": "Cf2YfG3dxomp",
        "colab_type": "text"
      },
      "source": [
        "## Estructuras, asignación y funciones"
      ]
    },
    {
      "cell_type": "markdown",
      "metadata": {
        "id": "NyGAfLwkxwhW",
        "colab_type": "text"
      },
      "source": [
        "### 1. Creando una agenda \n",
        "\n",
        "Utiliza los conceptos básicos de python para crear una agenda telefónica. Deberás completar las funciones crear_agenda, agregar_contacto, eliminimar_contacto y buscar_contacto que se encuentran en las siguientes celdas.\n",
        "\n",
        "* ```crear_agenda()```, esta función devuelve una nueva agenda vacía, elige el tipo de dato que creas adecuado para este proposito.\n",
        "* ```agregar_contacto(agenda, nombre, numero)```, esta función debe permitir agregar un nuevo contacto a la agenda, además si un contacto ya existe con el nombre recibido entonces debes almacenar su nuevo numero sin eliminar el anterior.\n",
        "* ```buscar_contacto(agenda, nombre)```, esta función debe de regresar el o los números registados de un contacto, si el contacto no existe entonces imprimer el mensaje \"Contacto no encontrado en la agenda\".\n",
        "* ```eliminar_contacto(agenda, nombre)```, esta función permite eliminar a un contacto de la agenda, si el contacto no existe entonces imprimer el mensaje \"Contacto no encontrado en la agenda\".\n"
      ]
    },
    {
      "cell_type": "code",
      "metadata": {
        "id": "0AJwJmTI-aat",
        "colab_type": "code",
        "colab": {}
      },
      "source": [
        "def crear_agenda():\n",
        "  agenda = dict()\n",
        "  return agenda"
      ],
      "execution_count": 53,
      "outputs": []
    },
    {
      "cell_type": "code",
      "metadata": {
        "id": "lJE76r54ALUq",
        "colab_type": "code",
        "colab": {}
      },
      "source": [
        "def agregar_contacto(agenda, nombre, numero):\n",
        "  if not(nombre in agenda):\n",
        "    agenda[nombre] = numero\n",
        "  else:\n",
        "    print(\"Contacto \"+ nombre+\" ya existe con número \"+agenda[nombre])\n",
        "  return agenda"
      ],
      "execution_count": 54,
      "outputs": []
    },
    {
      "cell_type": "code",
      "metadata": {
        "id": "g3WxHZ1zAnO7",
        "colab_type": "code",
        "colab": {}
      },
      "source": [
        "agenda = crear_agenda()\n",
        "agenda = agregar_contacto(agenda, \"Javier\",\"1234567890\")"
      ],
      "execution_count": 55,
      "outputs": []
    },
    {
      "cell_type": "code",
      "metadata": {
        "id": "9kl8FOvQA6TE",
        "colab_type": "code",
        "colab": {}
      },
      "source": [
        "def buscar_contacto(agenda,nombre):\n",
        "  if nombre in agenda:\n",
        "    print(\"El número de \"+nombre+\" es \"+agenda[nombre])\n",
        "  else:\n",
        "    print(\"Contacto \" + nombre + \" no encontrado en la agenda\")\n",
        "  return"
      ],
      "execution_count": 56,
      "outputs": []
    },
    {
      "cell_type": "code",
      "metadata": {
        "id": "t6HAm2FlBSzQ",
        "colab_type": "code",
        "colab": {
          "base_uri": "https://localhost:8080/",
          "height": 70
        },
        "outputId": "ed7fee5b-785e-4589-bd24-226e3d0388e1"
      },
      "source": [
        "buscar_contacto(agenda, \"Javier\")\n",
        "agenda = agregar_contacto(agenda, \"Javier\", \"0987654321\")\n",
        "buscar_contacto(agenda, \"Javier\")"
      ],
      "execution_count": 57,
      "outputs": [
        {
          "output_type": "stream",
          "text": [
            "El número de Javier es 1234567890\n",
            "Contacto Javier ya existe con número 1234567890\n",
            "El número de Javier es 1234567890\n"
          ],
          "name": "stdout"
        }
      ]
    },
    {
      "cell_type": "code",
      "metadata": {
        "id": "dXYqDCZbBdOt",
        "colab_type": "code",
        "colab": {}
      },
      "source": [
        "def eliminar_contacto(agenda,nombre):\n",
        "  if nombre in agenda:\n",
        "    del agenda[nombre]\n",
        "  else:\n",
        "    print(\"Contacto no encontrado en la agenda\")\n",
        "  return agenda"
      ],
      "execution_count": 58,
      "outputs": []
    },
    {
      "cell_type": "code",
      "metadata": {
        "id": "tRbJuPZPBuuX",
        "colab_type": "code",
        "colab": {}
      },
      "source": [
        "agenda = eliminar_contacto(agenda,\"Javier\")"
      ],
      "execution_count": 59,
      "outputs": []
    },
    {
      "cell_type": "code",
      "metadata": {
        "id": "FOg3gxDbCfr2",
        "colab_type": "code",
        "colab": {}
      },
      "source": [
        "def editar_contacto(agenda, nombre, numero):\n",
        "  if nombre in agenda:\n",
        "    agenda[nombre] = numero\n",
        "  else:\n",
        "    print(\"Contacto \"+ nombre+\" no existe\")\n",
        "  return agenda"
      ],
      "execution_count": 60,
      "outputs": []
    },
    {
      "cell_type": "code",
      "metadata": {
        "id": "yQY5z6lBDL1I",
        "colab_type": "code",
        "colab": {}
      },
      "source": [
        "def mostrar_contactos(agenda):\n",
        "  for nombre in agenda:\n",
        "    print(\"Nombre: \" + nombre + \" Número: \" + agenda[nombre])\n",
        "  return"
      ],
      "execution_count": 61,
      "outputs": []
    },
    {
      "cell_type": "code",
      "metadata": {
        "id": "eML_OrTzDiMc",
        "colab_type": "code",
        "colab": {
          "base_uri": "https://localhost:8080/",
          "height": 70
        },
        "outputId": "efe6057b-3b47-419d-b273-c83d28b9611a"
      },
      "source": [
        "agenda = agregar_contacto(agenda, \"Sam\",\"55\")\n",
        "agenda = agregar_contacto(agenda, \"Santi\",\"12\")\n",
        "agenda = agregar_contacto(agenda, \"Naty\",\"34\")\n",
        "mostrar_contactos(agenda)"
      ],
      "execution_count": 62,
      "outputs": [
        {
          "output_type": "stream",
          "text": [
            "Nombre: Sam Número: 55\n",
            "Nombre: Santi Número: 12\n",
            "Nombre: Naty Número: 34\n"
          ],
          "name": "stdout"
        }
      ]
    },
    {
      "cell_type": "markdown",
      "metadata": {
        "id": "7b24dAU-x31U",
        "colab_type": "text"
      },
      "source": [
        "# Ejercicios estadística"
      ]
    },
    {
      "cell_type": "markdown",
      "metadata": {
        "id": "vO2VnxSsx_LP",
        "colab_type": "text"
      },
      "source": [
        "### Función suma\n",
        "\n",
        "$$\n",
        "    suma(a) = \\sum_{i=1}^{n}a_i\n",
        "$$"
      ]
    },
    {
      "cell_type": "code",
      "metadata": {
        "id": "bN9oU1BGyCU3",
        "colab_type": "code",
        "colab": {}
      },
      "source": [
        "def suma(x):\n",
        "    suma = 0\n",
        "    for num in x:\n",
        "      suma+= num\n",
        "    return suma"
      ],
      "execution_count": 18,
      "outputs": []
    },
    {
      "cell_type": "code",
      "metadata": {
        "id": "ZBbbYeqBKXGM",
        "colab_type": "code",
        "colab": {}
      },
      "source": [
        "assert suma([1, 2, 3, 4, 5]) == 15"
      ],
      "execution_count": 19,
      "outputs": []
    },
    {
      "cell_type": "code",
      "metadata": {
        "id": "bdIr-y0DKe4p",
        "colab_type": "code",
        "colab": {
          "base_uri": "https://localhost:8080/",
          "height": 35
        },
        "outputId": "807e1353-a1c2-43c3-d237-d0a7e35e456d"
      },
      "source": [
        "print(suma([1, 2, 3, 4, 5]))"
      ],
      "execution_count": 20,
      "outputs": [
        {
          "output_type": "stream",
          "text": [
            "15\n"
          ],
          "name": "stdout"
        }
      ]
    },
    {
      "cell_type": "markdown",
      "metadata": {
        "id": "JXL0-g70LFnO",
        "colab_type": "text"
      },
      "source": [
        "### Función promedio.\n",
        "\n",
        "$$\n",
        "\t\\bar{x} = \\dfrac{\\sum_{i=1}^{n}x_i}{n}\n",
        "$$"
      ]
    },
    {
      "cell_type": "code",
      "metadata": {
        "id": "S8PgY4c1Ly_i",
        "colab_type": "code",
        "colab": {}
      },
      "source": [
        "def promedio(x):\n",
        "    promedio = 0\n",
        "    suma = 0\n",
        "    for num in x:\n",
        "      suma+= num\n",
        "    promedio = suma/len(x)\n",
        "    return promedio"
      ],
      "execution_count": 22,
      "outputs": []
    },
    {
      "cell_type": "code",
      "metadata": {
        "id": "24u-05yjL_T0",
        "colab_type": "code",
        "colab": {}
      },
      "source": [
        "assert promedio([1, 2, 3, 4, 5]) == 3, \"Error en promedio\""
      ],
      "execution_count": 23,
      "outputs": []
    },
    {
      "cell_type": "code",
      "metadata": {
        "id": "AwfmaggbMDI3",
        "colab_type": "code",
        "colab": {
          "base_uri": "https://localhost:8080/",
          "height": 35
        },
        "outputId": "d6b569cc-8c71-46aa-ac22-b54a29d84cdc"
      },
      "source": [
        "print(promedio([1, 2, 3, 4, 5]))"
      ],
      "execution_count": 24,
      "outputs": [
        {
          "output_type": "stream",
          "text": [
            "3.0\n"
          ],
          "name": "stdout"
        }
      ]
    },
    {
      "cell_type": "markdown",
      "metadata": {
        "id": "b0SmoKLbMgCK",
        "colab_type": "text"
      },
      "source": [
        "### Función varianza.\n",
        "$$\n",
        "\\sigma^2 = \\frac{1}{n} \\sum_{i=1}^{n}(x_i - \\bar{x})^2\n",
        "$$"
      ]
    },
    {
      "cell_type": "code",
      "metadata": {
        "id": "mbDr22mjMl27",
        "colab_type": "code",
        "colab": {}
      },
      "source": [
        "def var(x):\n",
        "    var = 0\n",
        "    suma = 0\n",
        "    prom = promedio(x)\n",
        "    for num in x:\n",
        "      suma += (num - prom)**2\n",
        "    var = suma/len(x)\n",
        "    return var"
      ],
      "execution_count": 25,
      "outputs": []
    },
    {
      "cell_type": "code",
      "metadata": {
        "id": "nSfJyJdlMoh8",
        "colab_type": "code",
        "colab": {}
      },
      "source": [
        "assert var([1,2,3,4,5]) == 2, \"Error en var\""
      ],
      "execution_count": 26,
      "outputs": []
    },
    {
      "cell_type": "code",
      "metadata": {
        "id": "_s9xBaQ9Nam7",
        "colab_type": "code",
        "colab": {
          "base_uri": "https://localhost:8080/",
          "height": 35
        },
        "outputId": "810a813a-374a-4fbb-d860-5d9949925808"
      },
      "source": [
        "print(var([15,7,8,12,9]))"
      ],
      "execution_count": 27,
      "outputs": [
        {
          "output_type": "stream",
          "text": [
            "8.559999999999999\n"
          ],
          "name": "stdout"
        }
      ]
    },
    {
      "cell_type": "markdown",
      "metadata": {
        "id": "328eHehcbaDI",
        "colab_type": "text"
      },
      "source": [
        "# Ejercicios álgebra lineal"
      ]
    },
    {
      "cell_type": "markdown",
      "metadata": {
        "id": "IC_P2X5UbbMT",
        "colab_type": "text"
      },
      "source": [
        "## Vectores con listas"
      ]
    },
    {
      "cell_type": "markdown",
      "metadata": {
        "id": "ZI0DockabfML",
        "colab_type": "text"
      },
      "source": [
        "### Ones"
      ]
    },
    {
      "cell_type": "markdown",
      "metadata": {
        "id": "yX7P11aLbiIa",
        "colab_type": "text"
      },
      "source": [
        "Completa la función ones1D que recibe como parámetros un entero $n$ y retorna una lista de tamaño $n$ con todos sus elementos con el valor $1$.\n",
        "\n",
        "Ejemplo:\n",
        "\n",
        "```\n",
        ">>> ones(5)\n",
        "[1, 1, 1, 1, 1]\n",
        "```\n",
        "\n"
      ]
    },
    {
      "cell_type": "code",
      "metadata": {
        "id": "gzwDkFqzbn6f",
        "colab_type": "code",
        "colab": {}
      },
      "source": [
        "def ones_1d(n):\n",
        "    ones_list = []\n",
        "    for n in range(n):\n",
        "      ones_list.append(1)\n",
        "    return ones_list  "
      ],
      "execution_count": 28,
      "outputs": []
    },
    {
      "cell_type": "markdown",
      "metadata": {
        "id": "LhgAvxQQbyd9",
        "colab_type": "text"
      },
      "source": [
        "Ejecuta la siguiente celda para comprobar la función ones1D:"
      ]
    },
    {
      "cell_type": "code",
      "metadata": {
        "id": "8-hZQxYOb1Px",
        "colab_type": "code",
        "colab": {
          "base_uri": "https://localhost:8080/",
          "height": 35
        },
        "outputId": "322adc6c-9135-4fd5-f374-e5eaadbdebdd"
      },
      "source": [
        "assert len(ones_1d(10)) == 10 and  ones_1d(3).count(1) == 3 and sum(ones_1d(5)) == 5  , \"error en la funcion ones_1d\"\n",
        "print(\"La funcion es correcta\")"
      ],
      "execution_count": 29,
      "outputs": [
        {
          "output_type": "stream",
          "text": [
            "La funcion es correcta\n"
          ],
          "name": "stdout"
        }
      ]
    },
    {
      "cell_type": "markdown",
      "metadata": {
        "id": "11yjybyfcU31",
        "colab_type": "text"
      },
      "source": [
        "### Ones 2D"
      ]
    },
    {
      "cell_type": "markdown",
      "metadata": {
        "id": "yRH8dZTBcW6-",
        "colab_type": "text"
      },
      "source": [
        "Completa la función ones_2d que recibe como parámetros un entero $n$ y un entero $m$ y retorna una lista con $n$ sub-listas cada una de tamaño $m$ con todos sus elementos con el valor 1. En otras palabras, una matriz $n \\times m$ con sus elementos iniciados con valor $1$.\n",
        "\n",
        "Ejemplo:\n",
        "\n",
        "\n",
        "\n",
        "```\n",
        ">>> ones_2d(2, 3)\n",
        "[[1, 1, 1], [1, 1, 1]]\n",
        "```\n",
        "\n"
      ]
    },
    {
      "cell_type": "code",
      "metadata": {
        "id": "PGRJzrFncq3l",
        "colab_type": "code",
        "colab": {}
      },
      "source": [
        "def ones_2d(m, n):\n",
        "    ones_ll = []\n",
        "    ones_row = []\n",
        "    for column in range(n):\n",
        "      ones_row.append(1)\n",
        "    for row in range(m):\n",
        "      ones_ll.append(ones_row)\n",
        "    return ones_ll"
      ],
      "execution_count": 30,
      "outputs": []
    },
    {
      "cell_type": "code",
      "metadata": {
        "id": "eIIl_b4Ddcoi",
        "colab_type": "code",
        "colab": {
          "base_uri": "https://localhost:8080/",
          "height": 35
        },
        "outputId": "3f81642a-a172-4253-d8c9-72139a6c6b63"
      },
      "source": [
        "ones_2d(2,3)"
      ],
      "execution_count": 31,
      "outputs": [
        {
          "output_type": "execute_result",
          "data": {
            "text/plain": [
              "[[1, 1, 1], [1, 1, 1]]"
            ]
          },
          "metadata": {
            "tags": []
          },
          "execution_count": 31
        }
      ]
    },
    {
      "cell_type": "code",
      "metadata": {
        "id": "hSZ0m7Fad-5V",
        "colab_type": "code",
        "colab": {
          "base_uri": "https://localhost:8080/",
          "height": 35
        },
        "outputId": "60412787-a670-420b-b209-704813e1e107"
      },
      "source": [
        "assert len(ones_2d(2, 3)) == 2 and len(ones_2d(2, 3)[0]) == 3 and sum([x_i for sl in ones_2d(3, 2) for x_i in sl]) == 6 , \"error en la funcion ones_2d\"\n",
        "print(\"La funcion es correcta\")"
      ],
      "execution_count": 32,
      "outputs": [
        {
          "output_type": "stream",
          "text": [
            "La funcion es correcta\n"
          ],
          "name": "stdout"
        }
      ]
    },
    {
      "cell_type": "markdown",
      "metadata": {
        "id": "jdFBgrReeLI0",
        "colab_type": "text"
      },
      "source": [
        "### Producto punto (inner)"
      ]
    },
    {
      "cell_type": "markdown",
      "metadata": {
        "id": "KKpxnnireNn9",
        "colab_type": "text"
      },
      "source": [
        "Completa la función ones_2d que recibe como parametros dos listas a, b de la misma longitúd y retorna el producto punto de ambos.\n",
        "\n",
        "El producto punto está definido como:\n",
        "\n",
        "$$a = [a_1 a_2 ... a_n] \\: y \\: b = [b_1 b_2 ... b_n]$$\n",
        "\n",
        "$$\n",
        "a \\cdot b = a_1*b_1 + a_2*b_2 + \\dots + a_n*b_n\n",
        "$$"
      ]
    },
    {
      "cell_type": "code",
      "metadata": {
        "id": "VX5e_bb9eOqP",
        "colab_type": "code",
        "colab": {}
      },
      "source": [
        "def inner(a, b):\n",
        "  result = 0\n",
        "  if len(a) == len(b):\n",
        "    for n in range(len(a)):\n",
        "      result += a[n]*b[n]\n",
        "    return result\n",
        "  else:\n",
        "    print(\"Las listas no tienen la misma longitud n\")\n",
        "    return"
      ],
      "execution_count": 33,
      "outputs": []
    },
    {
      "cell_type": "code",
      "metadata": {
        "id": "4pziNLmNe6FO",
        "colab_type": "code",
        "colab": {
          "base_uri": "https://localhost:8080/",
          "height": 35
        },
        "outputId": "eab8c15c-7e25-4578-f44e-2ccb4b74bd10"
      },
      "source": [
        "assert inner([1, 2, 3], [1, 2 ,3]) == 14, \"Error en inner\"\n",
        "print(\"Correcto\")"
      ],
      "execution_count": 34,
      "outputs": [
        {
          "output_type": "stream",
          "text": [
            "Correcto\n"
          ],
          "name": "stdout"
        }
      ]
    },
    {
      "cell_type": "code",
      "metadata": {
        "id": "63GzyaVhe7re",
        "colab_type": "code",
        "colab": {
          "base_uri": "https://localhost:8080/",
          "height": 35
        },
        "outputId": "9d8644b6-d6c3-463b-edfa-b27fec510179"
      },
      "source": [
        "inner([1, 2, 3], [7, 8 ,3])"
      ],
      "execution_count": 35,
      "outputs": [
        {
          "output_type": "execute_result",
          "data": {
            "text/plain": [
              "32"
            ]
          },
          "metadata": {
            "tags": []
          },
          "execution_count": 35
        }
      ]
    },
    {
      "cell_type": "markdown",
      "metadata": {
        "id": "x8RSyL5wfGs3",
        "colab_type": "text"
      },
      "source": [
        "## Matrices con listas de listas"
      ]
    },
    {
      "cell_type": "markdown",
      "metadata": {
        "id": "3oVg1ERlfHZ7",
        "colab_type": "text"
      },
      "source": [
        "### Matriz identidad\n",
        "$$\n",
        "\tI_{ij} = \\begin{cases}\n",
        "\t\t1 & i=j\\\\\n",
        "\t\t0 & i \\neq j\\\\\n",
        "\t\\end{cases}\n",
        "$$"
      ]
    },
    {
      "cell_type": "code",
      "metadata": {
        "id": "Go35y1N_fSSi",
        "colab_type": "code",
        "colab": {}
      },
      "source": [
        "def eye(n):\n",
        "    I = []\n",
        "    for row in range(n):\n",
        "      temp = []\n",
        "      for column in range(n):\n",
        "        if row == column:\n",
        "          temp.append(1)\n",
        "        else:\n",
        "          temp.append(0)\n",
        "      I.append(temp)\n",
        "    return I"
      ],
      "execution_count": 36,
      "outputs": []
    },
    {
      "cell_type": "code",
      "metadata": {
        "id": "_D0Hy1Ckgb1x",
        "colab_type": "code",
        "colab": {
          "base_uri": "https://localhost:8080/",
          "height": 177
        },
        "outputId": "e168d004-3d98-451e-ba3c-05303c9bc168"
      },
      "source": [
        "eye(9)"
      ],
      "execution_count": 37,
      "outputs": [
        {
          "output_type": "execute_result",
          "data": {
            "text/plain": [
              "[[1, 0, 0, 0, 0, 0, 0, 0, 0],\n",
              " [0, 1, 0, 0, 0, 0, 0, 0, 0],\n",
              " [0, 0, 1, 0, 0, 0, 0, 0, 0],\n",
              " [0, 0, 0, 1, 0, 0, 0, 0, 0],\n",
              " [0, 0, 0, 0, 1, 0, 0, 0, 0],\n",
              " [0, 0, 0, 0, 0, 1, 0, 0, 0],\n",
              " [0, 0, 0, 0, 0, 0, 1, 0, 0],\n",
              " [0, 0, 0, 0, 0, 0, 0, 1, 0],\n",
              " [0, 0, 0, 0, 0, 0, 0, 0, 1]]"
            ]
          },
          "metadata": {
            "tags": []
          },
          "execution_count": 37
        }
      ]
    },
    {
      "cell_type": "code",
      "metadata": {
        "id": "ZjpuKkV9g94X",
        "colab_type": "code",
        "colab": {}
      },
      "source": [
        "assert eye(2) == [[1, 0], [0, 1]], \"Error en eye\""
      ],
      "execution_count": 38,
      "outputs": []
    },
    {
      "cell_type": "markdown",
      "metadata": {
        "id": "UQ6SKnkRhEjp",
        "colab_type": "text"
      },
      "source": [
        "### Matriz transpuesta\n",
        "\n",
        "$$C = A^T \\Leftrightarrow c_{ij} = a{ji}$$\n",
        "\n",
        "Por ejemplo, si:\n",
        "\t$$\n",
        "\tA = \\begin{bmatrix}\n",
        "\ta_{11} & a_{12}  \\\\\n",
        "\ta_{21} & a_{22}  \\\\\n",
        "\ta_{31} & a_{32}  \\\\\n",
        "\t\\end{bmatrix}\n",
        "\t$$\n",
        "\tentonces\n",
        "\t$$\n",
        "\tA^T = \\begin{bmatrix}\n",
        "\ta_{11} & a_{21} & a_{31} \\\\\n",
        "\ta_{12} & a_{22} & a_{32} \\\\\n",
        "\t\\end{bmatrix}\n",
        "\t$$"
      ]
    },
    {
      "cell_type": "code",
      "metadata": {
        "id": "8x1n0glrhKCJ",
        "colab_type": "code",
        "colab": {}
      },
      "source": [
        "def traspose(A):\n",
        "    '''\n",
        "    Esta funcion debe regresar la transpuesta de A\n",
        "    '''\n",
        "    A_t = []\n",
        "    columns = len(A[0])\n",
        "    rows = len(A)\n",
        "    for column in range(columns):\n",
        "      temp = []\n",
        "      for row in range(rows):\n",
        "        temp.append(A[row][column])\n",
        "      A_t.append(temp)\n",
        "    return A_t"
      ],
      "execution_count": 40,
      "outputs": []
    },
    {
      "cell_type": "code",
      "metadata": {
        "id": "2G4IY39Li2kU",
        "colab_type": "code",
        "colab": {
          "base_uri": "https://localhost:8080/",
          "height": 35
        },
        "outputId": "a7b15c50-147f-4de2-f580-9d93f16da1b8"
      },
      "source": [
        "traspose([[1, 2, 3, 4], [5, 6, 7, 8], [9, 10, 11, 12]])"
      ],
      "execution_count": 42,
      "outputs": [
        {
          "output_type": "execute_result",
          "data": {
            "text/plain": [
              "[[1, 5, 9], [2, 6, 10], [3, 7, 11], [4, 8, 12]]"
            ]
          },
          "metadata": {
            "tags": []
          },
          "execution_count": 42
        }
      ]
    },
    {
      "cell_type": "code",
      "metadata": {
        "id": "C-RI6j7Jj64Q",
        "colab_type": "code",
        "colab": {
          "base_uri": "https://localhost:8080/",
          "height": 35
        },
        "outputId": "b325591b-4487-4834-9ca7-f7e4c9630739"
      },
      "source": [
        "traspose([[1, -1, 5], [-1, 2, 1], [5, 1, 3]])"
      ],
      "execution_count": 43,
      "outputs": [
        {
          "output_type": "execute_result",
          "data": {
            "text/plain": [
              "[[1, -1, 5], [-1, 2, 1], [5, 1, 3]]"
            ]
          },
          "metadata": {
            "tags": []
          },
          "execution_count": 43
        }
      ]
    },
    {
      "cell_type": "code",
      "metadata": {
        "id": "kTaVacnWjj-B",
        "colab_type": "code",
        "colab": {
          "base_uri": "https://localhost:8080/",
          "height": 35
        },
        "outputId": "953e0793-1161-471e-fb3c-ab5cb23d13a5"
      },
      "source": [
        "traspose([[9, 0, 1], [0, 11, 1], [1, 1, 4], [1, 0, 1]])"
      ],
      "execution_count": 44,
      "outputs": [
        {
          "output_type": "execute_result",
          "data": {
            "text/plain": [
              "[[9, 0, 1, 1], [0, 11, 1, 0], [1, 1, 4, 1]]"
            ]
          },
          "metadata": {
            "tags": []
          },
          "execution_count": 44
        }
      ]
    },
    {
      "cell_type": "code",
      "metadata": {
        "id": "wcPtLIfr3LQR",
        "colab_type": "code",
        "colab": {}
      },
      "source": [
        "assert traspose([[1, 2], [3, 4], [5, 6]]) == [[1, 3, 5], [2, 4, 6]], \"Error en traspose\""
      ],
      "execution_count": 45,
      "outputs": []
    },
    {
      "cell_type": "markdown",
      "metadata": {
        "id": "OYAOXfSVkg0M",
        "colab_type": "text"
      },
      "source": [
        "### Valida multiplicación\n",
        "\n",
        "```True``` si\n",
        "$$A \\qquad es \\qquad mxn$$\n",
        "y\n",
        "$$B \\qquad es \\qquad nxp$$\n",
        "```False``` en otro caso"
      ]
    },
    {
      "cell_type": "code",
      "metadata": {
        "id": "S40HIjzEklkK",
        "colab_type": "code",
        "colab": {}
      },
      "source": [
        "def validate_mat_mul(A, B):\n",
        "    val = False\n",
        "    #Asumiendo que A y B son matrices válidas\n",
        "    if len(A[0]) == len(B):\n",
        "      val = True\n",
        "    return val"
      ],
      "execution_count": 46,
      "outputs": []
    },
    {
      "cell_type": "code",
      "metadata": {
        "id": "zva3RqxDmBga",
        "colab_type": "code",
        "colab": {}
      },
      "source": [
        "assert validate_mat_mul([[1, 2], [3, 4]], [[5, 6], [7, 8]]) and \\\n",
        "validate_mat_mul([[1, 2], [3, 4], [5, 6]], [[1, 2, 3], [4, 5, 6]]) and \\\n",
        "not validate_mat_mul([[1, 2, 3], [4, 5, 6], [7, 8, 9]], [[1, 2], [3, 4]]), \"Error en validate_mat_mul\""
      ],
      "execution_count": 47,
      "outputs": []
    },
    {
      "cell_type": "code",
      "metadata": {
        "id": "_jBbMtH7mElv",
        "colab_type": "code",
        "colab": {
          "base_uri": "https://localhost:8080/",
          "height": 35
        },
        "outputId": "2c10b87f-e3a1-4a9e-e1a6-2d0dbfaa3c6e"
      },
      "source": [
        "validate_mat_mul([[1, 2, 3], [4, 5, 6], [7, 8, 9]], [[1, 2], [3, 4]])"
      ],
      "execution_count": 48,
      "outputs": [
        {
          "output_type": "execute_result",
          "data": {
            "text/plain": [
              "False"
            ]
          },
          "metadata": {
            "tags": []
          },
          "execution_count": 48
        }
      ]
    },
    {
      "cell_type": "markdown",
      "metadata": {
        "id": "r0a1_O1wmjQh",
        "colab_type": "text"
      },
      "source": [
        "### Multiplicación de matrices\n",
        "\n",
        "Si $A \\in \\mathbb{R}^{m \\times n}$ y $B \\in \\mathbb{R}^{n \\times p}$ entonces:\n",
        "$$\n",
        "C = A B \\in \\mathbb{R}^{m \\times p}\\Leftrightarrow c_{ij} = \\sum_{k=1}^{n}a_{ik} b_{kj}\n",
        "$$"
      ]
    },
    {
      "cell_type": "code",
      "metadata": {
        "id": "j9AQiOChmkR9",
        "colab_type": "code",
        "colab": {}
      },
      "source": [
        "def mat_mul(A, B):\n",
        "    C = []\n",
        "    if validate_mat_mul(A,B):\n",
        "      # Iterates through A rows\n",
        "      for row_A in A:\n",
        "        temp = []\n",
        "        # Each row's element has to multiplicate by B's column\n",
        "        for row_B in range(len(B[0])):\n",
        "          res = 0\n",
        "          for n in range(len(row_A)):\n",
        "            res += row_A[n] * B[n][row_B]\n",
        "          temp.append(res)\n",
        "        C.append(temp)\n",
        "    return C"
      ],
      "execution_count": 49,
      "outputs": []
    },
    {
      "cell_type": "code",
      "metadata": {
        "id": "ps-UfHBU3Y7B",
        "colab_type": "code",
        "colab": {}
      },
      "source": [
        "assert mat_mul([[1, 2], [3, 4], [5, 6]], [[2, 2], [2, 2]]) == [[6, 6], [14, 14], [22, 22]], \"Error en mat_mul\""
      ],
      "execution_count": 52,
      "outputs": []
    },
    {
      "cell_type": "code",
      "metadata": {
        "id": "EEtoZhy-o2kR",
        "colab_type": "code",
        "colab": {
          "base_uri": "https://localhost:8080/",
          "height": 35
        },
        "outputId": "4cd94aa8-8289-439f-9d98-4e9ebf7c35ed"
      },
      "source": [
        "mat_mul([[1, 2], [3, 4], [5, 6]], [[2, 2], [2, 2]])"
      ],
      "execution_count": null,
      "outputs": [
        {
          "output_type": "execute_result",
          "data": {
            "text/plain": [
              "[[6, 6], [14, 14], [22, 22]]"
            ]
          },
          "metadata": {
            "tags": []
          },
          "execution_count": 114
        }
      ]
    },
    {
      "cell_type": "code",
      "metadata": {
        "id": "-tmGAlrxps7I",
        "colab_type": "code",
        "colab": {
          "base_uri": "https://localhost:8080/",
          "height": 35
        },
        "outputId": "97895545-31e8-4908-f2da-1d4dfbd8e61f"
      },
      "source": [
        "mat_mul([[-1, 4], [2, 3]], [[9, -3], [6, 1]])"
      ],
      "execution_count": null,
      "outputs": [
        {
          "output_type": "execute_result",
          "data": {
            "text/plain": [
              "[[15, 7], [36, -3]]"
            ]
          },
          "metadata": {
            "tags": []
          },
          "execution_count": 115
        }
      ]
    },
    {
      "cell_type": "code",
      "metadata": {
        "id": "yzq7fgGTqhxD",
        "colab_type": "code",
        "colab": {
          "base_uri": "https://localhost:8080/",
          "height": 35
        },
        "outputId": "0588e9be-700e-4791-8d82-7face015aa88"
      },
      "source": [
        "mat_mul([[1, 2], [3, 4]], [[5, 6, 7], [8, 9, 10]])"
      ],
      "execution_count": null,
      "outputs": [
        {
          "output_type": "execute_result",
          "data": {
            "text/plain": [
              "[[21, 24, 27], [47, 54, 61]]"
            ]
          },
          "metadata": {
            "tags": []
          },
          "execution_count": 116
        }
      ]
    },
    {
      "cell_type": "code",
      "metadata": {
        "id": "Grapii2msD7g",
        "colab_type": "code",
        "colab": {
          "base_uri": "https://localhost:8080/",
          "height": 35
        },
        "outputId": "f883ba8f-a083-4381-f31f-b71187c245bf"
      },
      "source": [
        "mat_mul([[0, 2, 5, 2], [0.4, 0, 0, 0], [0, 0.5, 0, 0], [0, 0, 0.6, 0]], [[5], [2], [2], [2]])"
      ],
      "execution_count": null,
      "outputs": [
        {
          "output_type": "execute_result",
          "data": {
            "text/plain": [
              "[[18], [2.0], [1.0], [1.2]]"
            ]
          },
          "metadata": {
            "tags": []
          },
          "execution_count": 119
        }
      ]
    }
  ]
}